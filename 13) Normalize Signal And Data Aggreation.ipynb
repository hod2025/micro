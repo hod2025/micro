{
 "cells": [
  {
   "cell_type": "code",
   "execution_count": 1,
   "id": "196b896f",
   "metadata": {
    "collapsed": true
   },
   "outputs": [
    {
     "name": "stdout",
     "output_type": "stream",
     "text": [
      "Defaulting to user installation because normal site-packages is not writeable\n",
      "Requirement already satisfied: librosa in c:\\users\\khumesh lohar\\appdata\\roaming\\python\\python310\\site-packages (0.10.1)\n",
      "Requirement already satisfied: lazy-loader>=0.1 in c:\\users\\khumesh lohar\\appdata\\roaming\\python\\python310\\site-packages (from librosa) (0.3)\n",
      "Requirement already satisfied: soundfile>=0.12.1 in c:\\users\\khumesh lohar\\appdata\\roaming\\python\\python310\\site-packages (from librosa) (0.12.1)\n",
      "Requirement already satisfied: numpy!=1.22.0,!=1.22.1,!=1.22.2,>=1.20.3 in c:\\programdata\\anaconda3\\lib\\site-packages (from librosa) (1.23.5)\n",
      "Requirement already satisfied: joblib>=0.14 in c:\\programdata\\anaconda3\\lib\\site-packages (from librosa) (1.1.1)\n",
      "Requirement already satisfied: pooch>=1.0 in c:\\programdata\\anaconda3\\lib\\site-packages (from librosa) (1.4.0)\n",
      "Requirement already satisfied: decorator>=4.3.0 in c:\\programdata\\anaconda3\\lib\\site-packages (from librosa) (5.1.1)\n",
      "Requirement already satisfied: audioread>=2.1.9 in c:\\users\\khumesh lohar\\appdata\\roaming\\python\\python310\\site-packages (from librosa) (3.0.1)\n",
      "Requirement already satisfied: numba>=0.51.0 in c:\\programdata\\anaconda3\\lib\\site-packages (from librosa) (0.56.4)\n",
      "Requirement already satisfied: scipy>=1.2.0 in c:\\programdata\\anaconda3\\lib\\site-packages (from librosa) (1.10.0)\n",
      "Requirement already satisfied: scikit-learn>=0.20.0 in c:\\programdata\\anaconda3\\lib\\site-packages (from librosa) (1.2.1)\n",
      "Requirement already satisfied: soxr>=0.3.2 in c:\\users\\khumesh lohar\\appdata\\roaming\\python\\python310\\site-packages (from librosa) (0.3.7)\n",
      "Requirement already satisfied: msgpack>=1.0 in c:\\programdata\\anaconda3\\lib\\site-packages (from librosa) (1.0.3)\n",
      "Requirement already satisfied: typing-extensions>=4.1.1 in c:\\users\\khumesh lohar\\appdata\\roaming\\python\\python310\\site-packages (from librosa) (4.9.0)\n",
      "Requirement already satisfied: setuptools in c:\\programdata\\anaconda3\\lib\\site-packages (from numba>=0.51.0->librosa) (65.6.3)\n",
      "Requirement already satisfied: llvmlite<0.40,>=0.39.0dev0 in c:\\programdata\\anaconda3\\lib\\site-packages (from numba>=0.51.0->librosa) (0.39.1)\n",
      "Requirement already satisfied: appdirs in c:\\programdata\\anaconda3\\lib\\site-packages (from pooch>=1.0->librosa) (1.4.4)\n",
      "Requirement already satisfied: packaging in c:\\programdata\\anaconda3\\lib\\site-packages (from pooch>=1.0->librosa) (22.0)\n",
      "Requirement already satisfied: requests in c:\\programdata\\anaconda3\\lib\\site-packages (from pooch>=1.0->librosa) (2.28.1)\n",
      "Requirement already satisfied: threadpoolctl>=2.0.0 in c:\\programdata\\anaconda3\\lib\\site-packages (from scikit-learn>=0.20.0->librosa) (2.2.0)\n",
      "Requirement already satisfied: cffi>=1.0 in c:\\programdata\\anaconda3\\lib\\site-packages (from soundfile>=0.12.1->librosa) (1.15.1)\n",
      "Requirement already satisfied: pycparser in c:\\programdata\\anaconda3\\lib\\site-packages (from cffi>=1.0->soundfile>=0.12.1->librosa) (2.21)\n",
      "Requirement already satisfied: certifi>=2017.4.17 in c:\\programdata\\anaconda3\\lib\\site-packages (from requests->pooch>=1.0->librosa) (2023.5.7)\n",
      "Requirement already satisfied: idna<4,>=2.5 in c:\\programdata\\anaconda3\\lib\\site-packages (from requests->pooch>=1.0->librosa) (3.4)\n",
      "Requirement already satisfied: urllib3<1.27,>=1.21.1 in c:\\programdata\\anaconda3\\lib\\site-packages (from requests->pooch>=1.0->librosa) (1.26.14)\n",
      "Requirement already satisfied: charset-normalizer<3,>=2 in c:\\programdata\\anaconda3\\lib\\site-packages (from requests->pooch>=1.0->librosa) (2.0.4)\n",
      "Note: you may need to restart the kernel to use updated packages.\n"
     ]
    }
   ],
   "source": [
    "pip install librosa"
   ]
  },
  {
   "cell_type": "code",
   "execution_count": 5,
   "id": "a938ceed",
   "metadata": {},
   "outputs": [],
   "source": [
    "import numpy as np\n",
    "import pandas as pd\n",
    "import librosa"
   ]
  },
  {
   "cell_type": "code",
   "execution_count": 6,
   "id": "3a2a3c9c",
   "metadata": {},
   "outputs": [],
   "source": [
    "file_path = 'file_example_WAV_1MG.wav'"
   ]
  },
  {
   "cell_type": "code",
   "execution_count": 7,
   "id": "22680c7e",
   "metadata": {},
   "outputs": [],
   "source": [
    "audio_data, sample_rate = librosa.load(file_path)"
   ]
  },
  {
   "cell_type": "code",
   "execution_count": 8,
   "id": "5300ffd7",
   "metadata": {},
   "outputs": [],
   "source": [
    "normalized_audio = librosa.util.normalize(audio_data)"
   ]
  },
  {
   "cell_type": "code",
   "execution_count": 9,
   "id": "0a0bb46f",
   "metadata": {},
   "outputs": [
    {
     "data": {
      "text/plain": [
       "array([ 0.07813648,  0.6777972 ,  0.4505379 , ...,  0.35224012,\n",
       "       -0.50125337, -0.03658368], dtype=float32)"
      ]
     },
     "execution_count": 9,
     "metadata": {},
     "output_type": "execute_result"
    }
   ],
   "source": [
    "normalized_audio"
   ]
  },
  {
   "cell_type": "code",
   "execution_count": 10,
   "id": "d5771aa1",
   "metadata": {},
   "outputs": [],
   "source": [
    "# DATA Aggreation function"
   ]
  },
  {
   "cell_type": "code",
   "execution_count": 20,
   "id": "7d2a2898",
   "metadata": {},
   "outputs": [],
   "source": [
    "data = {'corporation': ['yahoo','yahoo','msft','msft','google','google'],\n",
    "       'person':['sanjay','chetan','sushil','harshal','abhay','bhushan'],\n",
    "       'sales_in_USD':[100,140,670,540,240,551]}"
   ]
  },
  {
   "cell_type": "code",
   "execution_count": 21,
   "id": "3539b960",
   "metadata": {},
   "outputs": [
    {
     "name": "stdout",
     "output_type": "stream",
     "text": [
      "  corporation   person  sales_in_USD\n",
      "0       yahoo   sanjay           100\n",
      "1       yahoo   chetan           140\n",
      "2        msft   sushil           670\n",
      "3        msft  harshal           540\n",
      "4      google    abhay           240\n",
      "5      google  bhushan           551\n"
     ]
    }
   ],
   "source": [
    "dataframe=pd.DataFrame(data)\n",
    "print(dataframe)"
   ]
  },
  {
   "cell_type": "code",
   "execution_count": 22,
   "id": "c0f8d565",
   "metadata": {},
   "outputs": [
    {
     "name": "stdout",
     "output_type": "stream",
     "text": [
      "<pandas.core.groupby.generic.DataFrameGroupBy object at 0x000001A41205A980>\n"
     ]
    }
   ],
   "source": [
    "print(dataframe.groupby('corporation'))"
   ]
  },
  {
   "cell_type": "code",
   "execution_count": 23,
   "id": "32054c0e",
   "metadata": {},
   "outputs": [],
   "source": [
    "group_data = dataframe.groupby('corporation')"
   ]
  },
  {
   "cell_type": "code",
   "execution_count": 26,
   "id": "42dcdcaf",
   "metadata": {},
   "outputs": [
    {
     "name": "stdout",
     "output_type": "stream",
     "text": [
      "                    person  sales_in_USD\n",
      "corporation                             \n",
      "google        abhaybhushan           791\n",
      "msft         sushilharshal          1210\n",
      "yahoo         sanjaychetan           240\n"
     ]
    }
   ],
   "source": [
    "print(group_data.sum())"
   ]
  },
  {
   "cell_type": "code",
   "execution_count": 30,
   "id": "79d4884c",
   "metadata": {},
   "outputs": [
    {
     "name": "stdout",
     "output_type": "stream",
     "text": [
      "              person  sales_in_USD\n",
      "corporation                       \n",
      "google         abhay           240\n",
      "msft         harshal           540\n",
      "yahoo         chetan           100\n"
     ]
    }
   ],
   "source": [
    "print(group_data.min())"
   ]
  },
  {
   "cell_type": "code",
   "execution_count": 32,
   "id": "bb6d1df4",
   "metadata": {},
   "outputs": [
    {
     "name": "stdout",
     "output_type": "stream",
     "text": [
      "              person  sales_in_USD\n",
      "corporation                       \n",
      "google       bhushan           551\n",
      "msft          sushil           670\n",
      "yahoo         sanjay           140\n"
     ]
    }
   ],
   "source": [
    "print(group_data.max())"
   ]
  },
  {
   "cell_type": "code",
   "execution_count": 35,
   "id": "7fd85276",
   "metadata": {},
   "outputs": [
    {
     "name": "stdout",
     "output_type": "stream",
     "text": [
      "             person  sales_in_USD\n",
      "corporation                      \n",
      "google            2             2\n",
      "msft              2             2\n",
      "yahoo             2             2\n"
     ]
    }
   ],
   "source": [
    "print(group_data.count())"
   ]
  },
  {
   "cell_type": "code",
   "execution_count": 29,
   "id": "985dffac",
   "metadata": {},
   "outputs": [
    {
     "name": "stdout",
     "output_type": "stream",
     "text": [
      "            sales_in_USD                                                    \n",
      "                   count   mean         std    min     25%    50%     75%   \n",
      "corporation                                                                 \n",
      "google               2.0  395.5  219.910209  240.0  317.75  395.5  473.25  \\\n",
      "msft                 2.0  605.0   91.923882  540.0  572.50  605.0  637.50   \n",
      "yahoo                2.0  120.0   28.284271  100.0  110.00  120.0  130.00   \n",
      "\n",
      "                    \n",
      "               max  \n",
      "corporation         \n",
      "google       551.0  \n",
      "msft         670.0  \n",
      "yahoo        140.0  \n"
     ]
    }
   ],
   "source": [
    "print(group_data.describe())"
   ]
  },
  {
   "cell_type": "code",
   "execution_count": null,
   "id": "d28f1fd1",
   "metadata": {},
   "outputs": [],
   "source": []
  },
  {
   "cell_type": "code",
   "execution_count": null,
   "id": "b543883b",
   "metadata": {},
   "outputs": [],
   "source": []
  },
  {
   "cell_type": "code",
   "execution_count": null,
   "id": "2c8e36cf",
   "metadata": {},
   "outputs": [],
   "source": []
  }
 ],
 "metadata": {
  "kernelspec": {
   "display_name": "Python 3 (ipykernel)",
   "language": "python",
   "name": "python3"
  },
  "language_info": {
   "codemirror_mode": {
    "name": "ipython",
    "version": 3
   },
   "file_extension": ".py",
   "mimetype": "text/x-python",
   "name": "python",
   "nbconvert_exporter": "python",
   "pygments_lexer": "ipython3",
   "version": "3.10.9"
  }
 },
 "nbformat": 4,
 "nbformat_minor": 5
}
