{
 "cells": [
  {
   "cell_type": "code",
   "execution_count": null,
   "id": "9d82f5a2",
   "metadata": {},
   "outputs": [],
   "source": [
    "#14). apply Fourier transform And Datra aggreration"
   ]
  },
  {
   "cell_type": "code",
   "execution_count": 17,
   "id": "535efcae",
   "metadata": {},
   "outputs": [
    {
     "data": {
      "image/png": "[encoded data removed]",
      "text/plain": [
       "<Figure size 1200x400 with 1 Axes>"
      ]
     },
     "metadata": {},
     "output_type": "display_data"
    }
   ],
   "source": [
    "import librosa\n",
    "import librosa.display\n",
    "import matplotlib.pyplot as plt\n",
    "import numpy as np\n",
    "import pandas as pd\n",
    "\n",
    "audio_file_path = 'file_example_WAV_1MG.wav'\n",
    "\n",
    "signal, sample_rate = librosa.load(audio_file_path, sr=None)\n",
    "\n",
    "normalized_signal = librosa.util.normalize(signal)\n",
    "\n",
    "fft_result = np.fft.fft(normalized_signal)\n",
    "frequencies = np.fft.fftfreq(len(fft_result), d=1/sample_rate)\n",
    "\n",
    "positive_frequencies = frequencies[:len(frequencies)//2]\n",
    "magnitude_spectrum = np.abs(fft_result[:len(fft_result)//2])\n",
    "\n",
    "plt.figure(figsize=(12, 4))\n",
    "plt.plot(positive_frequencies, magnitude_spectrum)\n",
    "plt.title('Frequency Domain Representation')\n",
    "plt.xlabel('Frequency (Hz)')\n",
    "plt.ylabel('Magnitude')\n",
    "plt.show()\n"
   ]
  },
  {
   "cell_type": "code",
   "execution_count": 4,
   "id": "30297d97",
   "metadata": {},
   "outputs": [],
   "source": [
    "data = {'corporation': ['yahoo','yahoo','msft','msft','google','google'],\n",
    "       'person':['sanjay','chetan','sushil','harshal','abhay','bhushan'],\n",
    "       'sales_in_USD':[100,140,670,540,240,551]}"
   ]
  },
  {
   "cell_type": "code",
   "execution_count": 5,
   "id": "3e125022",
   "metadata": {},
   "outputs": [
    {
     "name": "stdout",
     "output_type": "stream",
     "text": [
      "  corporation   person  sales_in_USD\n",
      "0       yahoo   sanjay           100\n",
      "1       yahoo   chetan           140\n",
      "2        msft   sushil           670\n",
      "3        msft  harshal           540\n",
      "4      google    abhay           240\n",
      "5      google  bhushan           551\n"
     ]
    }
   ],
   "source": [
    "dataframe=pd.DataFrame(data)\n",
    "print(dataframe)"
   ]
  },
  {
   "cell_type": "code",
   "execution_count": 6,
   "id": "375bf787",
   "metadata": {},
   "outputs": [
    {
     "name": "stdout",
     "output_type": "stream",
     "text": [
      "<pandas.core.groupby.generic.DataFrameGroupBy object at 0x00000203DD5A32E0>\n"
     ]
    }
   ],
   "source": [
    "print(dataframe.groupby('corporation'))"
   ]
  },
  {
   "cell_type": "code",
   "execution_count": 7,
   "id": "49a58ca1",
   "metadata": {},
   "outputs": [],
   "source": [
    "group_data = dataframe.groupby('corporation')"
   ]
  },
  {
   "cell_type": "code",
   "execution_count": 8,
   "id": "dc37552c",
   "metadata": {},
   "outputs": [
    {
     "name": "stdout",
     "output_type": "stream",
     "text": [
      "              person  sales_in_USD\n",
      "corporation                       \n",
      "google         abhay           240\n",
      "msft         harshal           540\n",
      "yahoo         chetan           100\n"
     ]
    }
   ],
   "source": [
    "print(group_data.min())"
   ]
  },
  {
   "cell_type": "code",
   "execution_count": 9,
   "id": "ff768f55",
   "metadata": {},
   "outputs": [
    {
     "name": "stdout",
     "output_type": "stream",
     "text": [
      "              person  sales_in_USD\n",
      "corporation                       \n",
      "google       bhushan           551\n",
      "msft          sushil           670\n",
      "yahoo         sanjay           140\n"
     ]
    }
   ],
   "source": [
    "print(group_data.max())"
   ]
  },
  {
   "cell_type": "code",
   "execution_count": 14,
   "id": "a4866b3f",
   "metadata": {},
   "outputs": [
    {
     "name": "stdout",
     "output_type": "stream",
     "text": [
      "             person  sales_in_USD\n",
      "corporation                      \n",
      "google            2             2\n",
      "msft              2             2\n",
      "yahoo             2             2\n"
     ]
    }
   ],
   "source": [
    "print(group_data.count())"
   ]
  },
  {
   "cell_type": "code",
   "execution_count": 15,
   "id": "1554be85",
   "metadata": {},
   "outputs": [
    {
     "name": "stdout",
     "output_type": "stream",
     "text": [
      "                    person  sales_in_USD\n",
      "corporation                             \n",
      "google        abhaybhushan           791\n",
      "msft         sushilharshal          1210\n",
      "yahoo         sanjaychetan           240\n"
     ]
    }
   ],
   "source": [
    "print(group_data.sum())"
   ]
  },
  {
   "cell_type": "code",
   "execution_count": 16,
   "id": "7e29b9c4",
   "metadata": {},
   "outputs": [
    {
     "name": "stdout",
     "output_type": "stream",
     "text": [
      "            sales_in_USD                                                    \n",
      "                   count   mean         std    min     25%    50%     75%   \n",
      "corporation                                                                 \n",
      "google               2.0  395.5  219.910209  240.0  317.75  395.5  473.25  \\\n",
      "msft                 2.0  605.0   91.923882  540.0  572.50  605.0  637.50   \n",
      "yahoo                2.0  120.0   28.284271  100.0  110.00  120.0  130.00   \n",
      "\n",
      "                    \n",
      "               max  \n",
      "corporation         \n",
      "google       551.0  \n",
      "msft         670.0  \n",
      "yahoo        140.0  \n"
     ]
    }
   ],
   "source": [
    "print(group_data.describe())"
   ]
  },
  {
   "cell_type": "code",
   "execution_count": null,
   "id": "03506b6a",
   "metadata": {},
   "outputs": [],
   "source": []
  }
 ],
 "metadata": {
  "kernelspec": {
   "display_name": "Python 3 (ipykernel)",
   "language": "python",
   "name": "python3"
  },
  "language_info": {
   "codemirror_mode": {
    "name": "ipython",
    "version": 3
   },
   "file_extension": ".py",
   "mimetype": "text/x-python",
   "name": "python",
   "nbconvert_exporter": "python",
   "pygments_lexer": "ipython3",
   "version": "3.10.9"
  }
 },
 "nbformat": 4,
 "nbformat_minor": 5
}
